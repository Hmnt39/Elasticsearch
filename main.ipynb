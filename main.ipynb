{
 "cells": [
  {
   "cell_type": "code",
   "execution_count": 1,
   "id": "5c119850",
   "metadata": {},
   "outputs": [],
   "source": [
    "from app.gateway import ESGateway\n",
    "from app import config"
   ]
  },
  {
   "cell_type": "markdown",
   "id": "d96a11fa",
   "metadata": {},
   "source": [
    "Initialize ES gateway with desired index"
   ]
  },
  {
   "cell_type": "code",
   "execution_count": 5,
   "id": "b186904f",
   "metadata": {},
   "outputs": [],
   "source": [
    "es = ESGateway(index_name=config.BLOG_INDEX)"
   ]
  },
  {
   "cell_type": "markdown",
   "id": "86950853",
   "metadata": {},
   "source": [
    "Load Sample Data to ES"
   ]
  },
  {
   "cell_type": "code",
   "execution_count": 6,
   "id": "1d0e4daa",
   "metadata": {},
   "outputs": [
    {
     "data": {
      "text/plain": [
       "(5, [])"
      ]
     },
     "execution_count": 6,
     "metadata": {},
     "output_type": "execute_result"
    }
   ],
   "source": [
    "es.bulk_create(documents=config.ES_SAMPLE_DATA)"
   ]
  },
  {
   "cell_type": "markdown",
   "id": "a5134ea1",
   "metadata": {},
   "source": [
    "Fetch Data for particular key"
   ]
  },
  {
   "cell_type": "code",
   "execution_count": 8,
   "id": "1759d2ab",
   "metadata": {},
   "outputs": [
    {
     "name": "stdout",
     "output_type": "stream",
     "text": [
      "{'key': 5, 'title': 'Blog 5', 'created_at': '2021-04-01', 'modified_at': '2021-04-01', 'is_active': True, 'is_deleted': False, 'source': {'name': 'Google', 'id': 1}, 'url': 'http://google.com/3', 'description': 'Mobile API have more stabilization for maps and navigation', 'rating': 3}\n"
     ]
    }
   ],
   "source": [
    "data = es.get(key=5)\n",
    "print(data)"
   ]
  },
  {
   "cell_type": "markdown",
   "id": "ec34d169",
   "metadata": {},
   "source": [
    "Add new data to the ES index"
   ]
  },
  {
   "cell_type": "code",
   "execution_count": 11,
   "id": "30035f18",
   "metadata": {},
   "outputs": [
    {
     "name": "stdout",
     "output_type": "stream",
     "text": [
      "{'_index': 'blog-index', '_type': '_doc', '_id': '7', '_version': 1, 'result': 'created', '_shards': {'total': 2, 'successful': 1, 'failed': 0}, '_seq_no': 6, '_primary_term': 1}\n"
     ]
    }
   ],
   "source": [
    "document = {\n",
    "    \"key\": 7,\n",
    "    \"title\": \"Blog 7\",\n",
    "    \"created_at\": \"2021-04-05\",\n",
    "    \"modified_at\": \"2021-04-05\",\n",
    "    \"is_active\": True,\n",
    "    \"is_deleted\": False,\n",
    "    \"source\": {\n",
    "        \"name\": \"Google\",\n",
    "        \"id\": 1\n",
    "    },\n",
    "    \"url\": \"http://google.com/3\",\n",
    "    \"description\": \"Firebase new SDK release and api versions\",\n",
    "    \"rating\": 4\n",
    "}\n",
    "\n",
    "response = es.add(document=document)\n",
    "print(response)"
   ]
  },
  {
   "cell_type": "markdown",
   "id": "534dbf09",
   "metadata": {},
   "source": [
    "Update a document in ES"
   ]
  },
  {
   "cell_type": "code",
   "execution_count": 12,
   "id": "192e1018",
   "metadata": {},
   "outputs": [
    {
     "name": "stdout",
     "output_type": "stream",
     "text": [
      "{'_index': 'blog-index', '_type': '_doc', '_id': '7', '_version': 2, 'result': 'updated', '_shards': {'total': 2, 'successful': 1, 'failed': 0}, '_seq_no': 7, '_primary_term': 1}\n"
     ]
    }
   ],
   "source": [
    "document = {\n",
    "    \"key\": 7,\n",
    "    \"title\": \"Blog 7\",\n",
    "    \"created_at\": \"2021-04-04\",\n",
    "    \"modified_at\": \"2021-04-05\",\n",
    "    \"is_active\": True,\n",
    "    \"is_deleted\": False,\n",
    "    \"source\": {\n",
    "        \"name\": \"Google\",\n",
    "        \"id\": 1\n",
    "    },\n",
    "    \"url\": \"http://google.com/3\",\n",
    "    \"description\": \"Firebase new SDK release and features to verify upgrades\",\n",
    "    \"rating\": 4\n",
    "}\n",
    "\n",
    "response = es.update(key=7, document=document)\n",
    "print(response)"
   ]
  },
  {
   "cell_type": "markdown",
   "id": "5ca15047",
   "metadata": {},
   "source": [
    "Delete a document using key from ES"
   ]
  },
  {
   "cell_type": "code",
   "execution_count": 15,
   "id": "63dfcab7",
   "metadata": {},
   "outputs": [
    {
     "name": "stdout",
     "output_type": "stream",
     "text": [
      "{'_index': 'blog-index', '_type': '_doc', '_id': '6', '_version': 2, 'result': 'deleted', '_shards': {'total': 2, 'successful': 1, 'failed': 0}, '_seq_no': 10, '_primary_term': 1}\n"
     ]
    }
   ],
   "source": [
    "response = es.delete(key=6)\n",
    "print(response)"
   ]
  },
  {
   "cell_type": "markdown",
   "id": "35b02dcc",
   "metadata": {},
   "source": [
    "Querying the ES for documents (Match Query)"
   ]
  },
  {
   "cell_type": "code",
   "execution_count": 17,
   "id": "5d86cd04",
   "metadata": {},
   "outputs": [
    {
     "name": "stdout",
     "output_type": "stream",
     "text": [
      "{'count': 3, 'results': [{'key': 1, 'title': 'Blog 1', 'created_at': '2021-04-01', 'modified_at': '2021-04-02', 'is_active': True, 'is_deleted': False, 'source': {'name': 'Google', 'id': 1}, 'url': 'http://google.com/1', 'description': 'Google AI solves rare calculus problems in record time', 'rating': 5}, {'key': 3, 'title': 'Blog 3', 'created_at': '2021-04-02', 'modified_at': '2021-04-02', 'is_active': True, 'is_deleted': False, 'source': {'name': 'Google', 'id': 1}, 'url': 'http://google.com/2', 'description': 'Firebase SDK introduces new features for mobile testing', 'rating': 5}, {'key': 5, 'title': 'Blog 5', 'created_at': '2021-04-01', 'modified_at': '2021-04-01', 'is_active': True, 'is_deleted': False, 'source': {'name': 'Google', 'id': 1}, 'url': 'http://google.com/3', 'description': 'Mobile API have more stabilization for maps and navigation', 'rating': 3}], 'previous_page': None, 'next_page': None}\n"
     ]
    }
   ],
   "source": [
    "body = {\"query\": {\"bool\": {}}}\n",
    "filters = [{\"match\": {\"source.name\": \"Google\"}}]\n",
    "body[\"query\"][\"bool\"][\"filter\"] = filters\n",
    "\n",
    "response = es.query(body=body)\n",
    "print(response)"
   ]
  },
  {
   "cell_type": "markdown",
   "id": "02dea292",
   "metadata": {},
   "source": [
    "Querying the ES for documents (Terms Query)\n",
    "Note:  Terms query require \"keyword\" for text type mapping"
   ]
  },
  {
   "cell_type": "code",
   "execution_count": 19,
   "id": "7dc466c2",
   "metadata": {},
   "outputs": [
    {
     "name": "stdout",
     "output_type": "stream",
     "text": [
      "{'count': 5, 'results': [{'key': 1, 'title': 'Blog 1', 'created_at': '2021-04-01', 'modified_at': '2021-04-02', 'is_active': True, 'is_deleted': False, 'source': {'name': 'Google', 'id': 1}, 'url': 'http://google.com/1', 'description': 'Google AI solves rare calculus problems in record time', 'rating': 5}, {'key': 2, 'title': 'Blog 2', 'created_at': '2021-04-04', 'modified_at': '2021-04-04', 'is_active': True, 'is_deleted': False, 'source': {'name': 'Amazon', 'id': 2}, 'url': 'http://amazon.com/1', 'description': 'AWS lambda invocation using triggers', 'rating': 4}, {'key': 3, 'title': 'Blog 3', 'created_at': '2021-04-02', 'modified_at': '2021-04-02', 'is_active': True, 'is_deleted': False, 'source': {'name': 'Google', 'id': 1}, 'url': 'http://google.com/2', 'description': 'Firebase SDK introduces new features for mobile testing', 'rating': 5}, {'key': 4, 'title': 'Blog 4', 'created_at': '2021-04-03', 'modified_at': '2021-04-04', 'is_active': True, 'is_deleted': False, 'source': {'name': 'Amazon', 'id': 2}, 'url': 'http://amazon.com/2', 'description': 'Cloud functions now supports PHP for written procedures', 'rating': 4}, {'key': 5, 'title': 'Blog 5', 'created_at': '2021-04-01', 'modified_at': '2021-04-01', 'is_active': True, 'is_deleted': False, 'source': {'name': 'Google', 'id': 1}, 'url': 'http://google.com/3', 'description': 'Mobile API have more stabilization for maps and navigation', 'rating': 3}], 'previous_page': None, 'next_page': None}\n"
     ]
    }
   ],
   "source": [
    "body = {\"query\": {\"bool\": {}}}\n",
    "filters = [{\"terms\": {\"source.name.keyword\": [\"Google\", \"Amazon\"]}}]\n",
    "body[\"query\"][\"bool\"][\"filter\"] = filters\n",
    "\n",
    "response = es.query(body=body)\n",
    "print(response)"
   ]
  },
  {
   "cell_type": "markdown",
   "id": "56a2c4be",
   "metadata": {},
   "source": [
    "Querying the ES for documents (Range Query)\n",
    "Note: Range query works better for numeric data type mapping"
   ]
  },
  {
   "cell_type": "code",
   "execution_count": 21,
   "id": "3cd5ed64",
   "metadata": {},
   "outputs": [
    {
     "name": "stdout",
     "output_type": "stream",
     "text": [
      "{'count': 2, 'results': [{'key': 1, 'title': 'Blog 1', 'created_at': '2021-04-01', 'modified_at': '2021-04-02', 'is_active': True, 'is_deleted': False, 'source': {'name': 'Google', 'id': 1}, 'url': 'http://google.com/1', 'description': 'Google AI solves rare calculus problems in record time', 'rating': 5}, {'key': 3, 'title': 'Blog 3', 'created_at': '2021-04-02', 'modified_at': '2021-04-02', 'is_active': True, 'is_deleted': False, 'source': {'name': 'Google', 'id': 1}, 'url': 'http://google.com/2', 'description': 'Firebase SDK introduces new features for mobile testing', 'rating': 5}], 'previous_page': None, 'next_page': None}\n"
     ]
    }
   ],
   "source": [
    "body = {\"query\": {\"bool\": {}}}\n",
    "filters = [{\"range\": {\"rating\": {\"gte\":5, \"lte\": 5}}}]\n",
    "body[\"query\"][\"bool\"][\"filter\"] = filters\n",
    "\n",
    "response = es.query(body=body)\n",
    "print(response)"
   ]
  },
  {
   "cell_type": "markdown",
   "id": "57a1e49a",
   "metadata": {},
   "source": [
    "Querying the ES for documents (Wildcard Search Query)"
   ]
  },
  {
   "cell_type": "code",
   "execution_count": 29,
   "id": "5a000059",
   "metadata": {},
   "outputs": [
    {
     "name": "stdout",
     "output_type": "stream",
     "text": [
      "{'count': 3, 'results': [{'key': 1, 'title': 'Blog 1', 'created_at': '2021-04-01', 'modified_at': '2021-04-02', 'is_active': True, 'is_deleted': False, 'source': {'name': 'Google', 'id': 1}, 'url': 'http://google.com/1', 'description': 'Google AI solves rare calculus problems in record time', 'rating': 5}, {'key': 3, 'title': 'Blog 3', 'created_at': '2021-04-02', 'modified_at': '2021-04-02', 'is_active': True, 'is_deleted': False, 'source': {'name': 'Google', 'id': 1}, 'url': 'http://google.com/2', 'description': 'Firebase SDK introduces new features for mobile testing', 'rating': 5}, {'key': 5, 'title': 'Blog 5', 'created_at': '2021-04-01', 'modified_at': '2021-04-01', 'is_active': True, 'is_deleted': False, 'source': {'name': 'Google', 'id': 1}, 'url': 'http://google.com/3', 'description': 'Mobile API have more stabilization for maps and navigation', 'rating': 3}], 'previous_page': None, 'next_page': None}\n"
     ]
    }
   ],
   "source": [
    "body = {\"query\": {\"bool\": {}}}\n",
    "response = es.query(body=body, search=\"goog\")\n",
    "print(response)"
   ]
  },
  {
   "cell_type": "code",
   "execution_count": null,
   "id": "4240412c",
   "metadata": {},
   "outputs": [],
   "source": [
    "Querying the ES for documents (Excluding the Documents)"
   ]
  },
  {
   "cell_type": "code",
   "execution_count": 30,
   "id": "7b634bd4",
   "metadata": {},
   "outputs": [
    {
     "name": "stdout",
     "output_type": "stream",
     "text": [
      "{'count': 1, 'results': [{'key': 4, 'title': 'Blog 4', 'created_at': '2021-04-03', 'modified_at': '2021-04-04', 'is_active': True, 'is_deleted': False, 'source': {'name': 'Amazon', 'id': 2}, 'url': 'http://amazon.com/2', 'description': 'Cloud functions now supports PHP for written procedures', 'rating': 4}], 'previous_page': None, 'next_page': None}\n"
     ]
    }
   ],
   "source": [
    "body = {\"query\": {\"bool\": {}}}\n",
    "exclude = [{\"terms\": {\"key\": [1,2,3,5]}}]\n",
    "body[\"query\"][\"bool\"][\"must_not\"] = exclude\n",
    "response = es.query(body=body)\n",
    "print(response)"
   ]
  },
  {
   "cell_type": "markdown",
   "id": "e2fb6b0f",
   "metadata": {},
   "source": [
    "Querying the ES for documents (Sort the Documents)"
   ]
  },
  {
   "cell_type": "code",
   "execution_count": 32,
   "id": "0525a3c5",
   "metadata": {},
   "outputs": [
    {
     "name": "stdout",
     "output_type": "stream",
     "text": [
      "{'count': 5, 'results': [{'key': 5, 'title': 'Blog 5', 'created_at': '2021-04-01', 'modified_at': '2021-04-01', 'is_active': True, 'is_deleted': False, 'source': {'name': 'Google', 'id': 1}, 'url': 'http://google.com/3', 'description': 'Mobile API have more stabilization for maps and navigation', 'rating': 3}, {'key': 4, 'title': 'Blog 4', 'created_at': '2021-04-03', 'modified_at': '2021-04-04', 'is_active': True, 'is_deleted': False, 'source': {'name': 'Amazon', 'id': 2}, 'url': 'http://amazon.com/2', 'description': 'Cloud functions now supports PHP for written procedures', 'rating': 4}, {'key': 3, 'title': 'Blog 3', 'created_at': '2021-04-02', 'modified_at': '2021-04-02', 'is_active': True, 'is_deleted': False, 'source': {'name': 'Google', 'id': 1}, 'url': 'http://google.com/2', 'description': 'Firebase SDK introduces new features for mobile testing', 'rating': 5}, {'key': 2, 'title': 'Blog 2', 'created_at': '2021-04-04', 'modified_at': '2021-04-04', 'is_active': True, 'is_deleted': False, 'source': {'name': 'Amazon', 'id': 2}, 'url': 'http://amazon.com/1', 'description': 'AWS lambda invocation using triggers', 'rating': 4}, {'key': 1, 'title': 'Blog 1', 'created_at': '2021-04-01', 'modified_at': '2021-04-02', 'is_active': True, 'is_deleted': False, 'source': {'name': 'Google', 'id': 1}, 'url': 'http://google.com/1', 'description': 'Google AI solves rare calculus problems in record time', 'rating': 5}], 'previous_page': None, 'next_page': None}\n"
     ]
    }
   ],
   "source": [
    "response = es.query(sorting=\"key\")\n",
    "print(response)"
   ]
  },
  {
   "cell_type": "markdown",
   "id": "f6f864dd",
   "metadata": {},
   "source": [
    "More Query to be Added\n",
    "TODO : Examples for Aggregation and buckets Query"
   ]
  }
 ],
 "metadata": {
  "kernelspec": {
   "display_name": "Python 3",
   "language": "python",
   "name": "python3"
  },
  "language_info": {
   "codemirror_mode": {
    "name": "ipython",
    "version": 3
   },
   "file_extension": ".py",
   "mimetype": "text/x-python",
   "name": "python",
   "nbconvert_exporter": "python",
   "pygments_lexer": "ipython3",
   "version": "3.8.5"
  }
 },
 "nbformat": 4,
 "nbformat_minor": 5
}
